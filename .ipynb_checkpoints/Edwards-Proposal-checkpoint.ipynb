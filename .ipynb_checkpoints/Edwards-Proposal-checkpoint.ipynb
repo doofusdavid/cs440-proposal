{
 "cells": [
  {
   "cell_type": "markdown",
   "metadata": {},
   "source": [
    "$\\newcommand{\\xv}{\\mathbf{x}}\n",
    "\\newcommand{\\Xv}{\\mathbf{X}}\n",
    "\\newcommand{\\yv}{\\mathbf{y}}\n",
    "\\newcommand{\\zv}{\\mathbf{z}}\n",
    "\\newcommand{\\av}{\\mathbf{a}}\n",
    "\\newcommand{\\Wv}{\\mathbf{W}}\n",
    "\\newcommand{\\wv}{\\mathbf{w}}\n",
    "\\newcommand{\\tv}{\\mathbf{t}}\n",
    "\\newcommand{\\Tv}{\\mathbf{T}}\n",
    "\\newcommand{\\muv}{\\boldsymbol{\\mu}}\n",
    "\\newcommand{\\sigmav}{\\boldsymbol{\\sigma}}\n",
    "\\newcommand{\\phiv}{\\boldsymbol{\\phi}}\n",
    "\\newcommand{\\Phiv}{\\boldsymbol{\\Phi}}\n",
    "\\newcommand{\\Sigmav}{\\boldsymbol{\\Sigma}}\n",
    "\\newcommand{\\Lambdav}{\\boldsymbol{\\Lambda}}\n",
    "\\newcommand{\\half}{\\frac{1}{2}}\n",
    "\\newcommand{\\argmax}[1]{\\underset{#1}{\\operatorname{argmax}}}\n",
    "\\newcommand{\\argmin}[1]{\\underset{#1}{\\operatorname{argmin}}}$"
   ]
  },
  {
   "cell_type": "markdown",
   "metadata": {},
   "source": [
    "# Project Proposal"
   ]
  },
  {
   "cell_type": "markdown",
   "metadata": {},
   "source": [
    "*David Edwards*"
   ]
  },
  {
   "cell_type": "markdown",
   "metadata": {},
   "source": [
    "## Introduction"
   ]
  },
  {
   "cell_type": "markdown",
   "metadata": {},
   "source": [
    "Having completed Reinforcement Learning Solution to Towers of Hanoi, I wanted to try something similar, applied to a different puzzle.  I was describing the Towers of Hanoi to my 10 year old son, and he told me immediately that I should try it on his favorite puzzle (or, favorite puzzle to watch YouTube videos on), the Rubik's cube.  \n",
    "\n",
    "I would like to apply the same Reinforcement Learning algorithm we created in order to solve the puzzle.  There are a few questions I have first though.  \n",
    "\n",
    "According to [this](http://b.chrishunt.co/how-many-positions-on-a-rubiks-cube) there are 43 quintillion possible possitions on a standard 3x3 rubik's cube.  As it turns out, my son has a 2x2 rubiks cube.  This should have a more managable [3674160](https://www.therubikzone.com/number-of-combinations/) number of states.\n",
    "\n",
    "This is an intruiging puzzle to me, as I feel like I just finally comprehended what we were doing on the Reinforcement Algorithm when I was finishing it up.  I'd like to explore it with a different, more difficult puzzle to see how it translates.\n",
    "\n",
    "I will be completing this project on my own.  "
   ]
  },
  {
   "cell_type": "markdown",
   "metadata": {},
   "source": [
    "## Methods"
   ]
  },
  {
   "cell_type": "markdown",
   "metadata": {},
   "source": [
    "I forsee three difficult methods in this project.\n",
    "\n",
    "1. Representing the state of the puzzle\n",
    "2. Creating the MakeMoves function\n",
    "3. Ensuring it runs in memory\n",
    "\n",
    "The state of the 2x2 puzzle would could be as simple as a list of tuples representing each of the sides position and color.  If the colors are Green, White, Blue, Orange, Yellow, Red, a solved puzzle could looks like, `((G,G,G,G),(W,W,W,W),(B,B,B,B),(O,O,O,O),(Y,Y,Y,Y),(R,R,R,R))` For a 2x2 puzzle, I would not be able to do a full randomization to scramble the puzzle, but would have to perform a series of valid moves on the puzzle to scramble it.  Otherwise, it would be equivalent to taking apart the puzzle and putting it back together, which may result in an unsolvable puzzle.  I would also like to figure out how to display the puzzle using colors, as that would be easier for me to mentally grasp.\n",
    "\n",
    "For a 2x2, the ValidMoves function would just return \"Rotate Top Clockwise,\" \"Rotate Top Counterclockwise\", repeat for Bottom, Left and Right.  This would be trivial, as they are always valid.  I would probably shorten them to something like T,T',B,B',R,R',L,L'.  The prime would be counter-clockwise.\n",
    "\n",
    "Implementing the MakeMove would be harder, as we're flattening a 3d object to a set of tuples.  I would need to represent the tuples and figure out which move affects which tuples.  \n",
    "\n",
    "Using `sys.getsizeof` I see that the puzzle state has a size of 104 \\* 8 possible moves * 3674160 states (divided by 1024 three times) gives about 2GB of memory for the Q dictionary, which seems feasible, yet still quite large.  \n",
    "\n",
    "Given the number of results for the 3x3, I believe I may need to investigate storing the Q dictionary to disk, either manually, or using a sqlite or mongoDB database.  My initial preference is a locally-hosted mongoDB database, as I've looked into them before, but haven't actually implemented a project with it."
   ]
  },
  {
   "cell_type": "markdown",
   "metadata": {},
   "source": [
    "## Possible Results\n",
    "\n",
    "I've read that a 3x3 rubiks cube can be solved in 20 steps or less, so I would anticipate that the 2x2 would take fewer moves than that.  I would like to scale this up to a 3x3 to find out what happens with memory when I'm maximizing it.  I have access to a computer at work which I can let grind on this puzzle for a long time uninterrupted.  \n",
    "\n",
    "If it works properly with a 2x2, the validMoves would be the same for the 3x3, as the added row would be the middle row, and moving the middle row is the same as a R followed by L, or R' followed by L' (moving the left and right each once).  makeMove would be different, but similar as you'd have 6 tuples each containing 9 items instead of 6 containing 4 items.  \n",
    "\n",
    "The biggest question is if my memory calculations are correct, whether this becomes a feasible solution at all for the 3x3.  At any rate, I'll be able to try to fill up my disk with the Q dictionary."
   ]
  },
  {
   "cell_type": "markdown",
   "metadata": {},
   "source": [
    "## Timeline\n",
    "\n",
    "11.08.17 - Implement representation of 2x2 puzzle, display puzzle and implement makeMoves\n",
    "\n",
    "11.22.17 - Implement trainQ and testQ for the 2x2 puzzle.  Display results.\n",
    "\n",
    "11.29.10 - Implement representation and makeMove for 3x3 puzzle\n",
    "\n",
    "12.13.17 - Implement trainQ and testQ for 3x3, possibly offloading Q dictionary to disk/database."
   ]
  }
 ],
 "metadata": {
  "kernelspec": {
   "display_name": "Python 3",
   "language": "python",
   "name": "python3"
  },
  "language_info": {
   "codemirror_mode": {
    "name": "ipython",
    "version": 3
   },
   "file_extension": ".py",
   "mimetype": "text/x-python",
   "name": "python",
   "nbconvert_exporter": "python",
   "pygments_lexer": "ipython3",
   "version": "3.6.2"
  }
 },
 "nbformat": 4,
 "nbformat_minor": 1
}
